{
  "nbformat": 4,
  "nbformat_minor": 0,
  "metadata": {
    "colab": {
      "provenance": [],
      "authorship_tag": "ABX9TyNj7DcdfzvegD7GD5qNRWk2",
      "include_colab_link": true
    },
    "kernelspec": {
      "name": "python3",
      "display_name": "Python 3"
    },
    "language_info": {
      "name": "python"
    }
  },
  "cells": [
    {
      "cell_type": "markdown",
      "metadata": {
        "id": "view-in-github",
        "colab_type": "text"
      },
      "source": [
        "<a href=\"https://colab.research.google.com/github/weiping0602/fin_data/blob/main/Untitled2.ipynb\" target=\"_parent\"><img src=\"https://colab.research.google.com/assets/colab-badge.svg\" alt=\"Open In Colab\"/></a>"
      ]
    },
    {
      "cell_type": "code",
      "execution_count": 1,
      "metadata": {
        "id": "rNjr4DBxnrXF"
      },
      "outputs": [],
      "source": [
        "import pandas as pd"
      ]
    },
    {
      "cell_type": "code",
      "source": [
        "url = \"https://raw.githubusercontent.com/weiping0602/fin_data/refs/heads/main/balancesheet.csv\"\n"
      ],
      "metadata": {
        "id": "glKhG8gCnwDO"
      },
      "execution_count": 58,
      "outputs": []
    },
    {
      "cell_type": "code",
      "source": [
        "df1 = pd.read_csv(url, index_col=0, encoding='unicode_escape')"
      ],
      "metadata": {
        "id": "2cCdlRcssp-f"
      },
      "execution_count": 59,
      "outputs": []
    },
    {
      "cell_type": "code",
      "source": [
        "df1"
      ],
      "metadata": {
        "colab": {
          "base_uri": "https://localhost:8080/",
          "height": 366
        },
        "id": "LDau7ycJpiNa",
        "outputId": "6dae984e-cef2-43f6-8156-88ad8581c202"
      },
      "execution_count": 60,
      "outputs": [
        {
          "output_type": "execute_result",
          "data": {
            "text/plain": [
              "          YYYY/MM  Quarter consolidation  Month Currency  \\\n",
              "ï»¿CO_ID                                                   \n",
              "1101 TCC  2023/12        4             Y     12      NTD   \n",
              "1102 ACC  2023/12        4             Y     12      NTD   \n",
              "\n",
              "          Total cash and cash equivalents  \\\n",
              "ï»¿CO_ID                                    \n",
              "1101 TCC                       66366622.0   \n",
              "1102 ACC                       33229516.0   \n",
              "\n",
              "          Total current financial assets at fair value through profit or loss  \\\n",
              "ï»¿CO_ID                                                                        \n",
              "1101 TCC                                           727762.0                     \n",
              "1102 ACC                                         39719980.0                     \n",
              "\n",
              "          Financial assets at fair value through other comprehensive income - Current  \\\n",
              "ï»¿CO_ID                                                                                \n",
              "1101 TCC                                          6972790.0                             \n",
              "1102 ACC                                          4307126.0                             \n",
              "\n",
              "          Financial assets measured at amortized cost - Current  \\\n",
              "ï»¿CO_ID                                                          \n",
              "1101 TCC                                         34236957.0       \n",
              "1102 ACC                                         21684983.0       \n",
              "\n",
              "          Current financial assets for hedging  ...  \\\n",
              "ï»¿CO_ID                                        ...   \n",
              "1101 TCC                                   0.0  ...   \n",
              "1102 ACC                                   0.0  ...   \n",
              "\n",
              "          Other equity - unearned compensation  Other equity, others  \\\n",
              "ï»¿CO_ID                                                               \n",
              "1101 TCC                                   0.0                   0.0   \n",
              "1102 ACC                                   0.0                   0.0   \n",
              "\n",
              "          Total other equity interest  Treasury shares  \\\n",
              "ï»¿CO_ID                                                 \n",
              "1101 TCC                    9457953.0      (732459.00)   \n",
              "1102 ACC                    7219740.0            0.00    \n",
              "\n",
              "          Total equity attributable to owners of parent  \\\n",
              "ï»¿CO_ID                                                  \n",
              "1101 TCC                                    230933254.0   \n",
              "1102 ACC                                    169169896.0   \n",
              "\n",
              "          Interests in the former associate or jointly controlled entity  \\\n",
              "ï»¿CO_ID                                                                   \n",
              "1101 TCC                                                0.0                \n",
              "1102 ACC                                                0.0                \n",
              "\n",
              "          Non-controlling interest in pre-acquisition share capital  \\\n",
              "ï»¿CO_ID                                                              \n",
              "1101 TCC                                                0.0           \n",
              "1102 ACC                                                0.0           \n",
              "\n",
              "          Non-controlling interests  Total equity  Total liabilities & equity  \n",
              "ï»¿CO_ID                                                                       \n",
              "1101 TCC                 22967787.0   253901041.0                 469438522.0  \n",
              "1102 ACC                 22693671.0   191863567.0                 336726851.0  \n",
              "\n",
              "[2 rows x 111 columns]"
            ],
            "text/html": [
              "\n",
              "  <div id=\"df-96c33d39-cd92-4be2-85eb-e4bf1882e525\" class=\"colab-df-container\">\n",
              "    <div>\n",
              "<style scoped>\n",
              "    .dataframe tbody tr th:only-of-type {\n",
              "        vertical-align: middle;\n",
              "    }\n",
              "\n",
              "    .dataframe tbody tr th {\n",
              "        vertical-align: top;\n",
              "    }\n",
              "\n",
              "    .dataframe thead th {\n",
              "        text-align: right;\n",
              "    }\n",
              "</style>\n",
              "<table border=\"1\" class=\"dataframe\">\n",
              "  <thead>\n",
              "    <tr style=\"text-align: right;\">\n",
              "      <th></th>\n",
              "      <th>YYYY/MM</th>\n",
              "      <th>Quarter</th>\n",
              "      <th>consolidation</th>\n",
              "      <th>Month</th>\n",
              "      <th>Currency</th>\n",
              "      <th>Total cash and cash equivalents</th>\n",
              "      <th>Total current financial assets at fair value through profit or loss</th>\n",
              "      <th>Financial assets at fair value through other comprehensive income - Current</th>\n",
              "      <th>Financial assets measured at amortized cost - Current</th>\n",
              "      <th>Current financial assets for hedging</th>\n",
              "      <th>...</th>\n",
              "      <th>Other equity - unearned compensation</th>\n",
              "      <th>Other equity, others</th>\n",
              "      <th>Total other equity interest</th>\n",
              "      <th>Treasury shares</th>\n",
              "      <th>Total equity attributable to owners of parent</th>\n",
              "      <th>Interests in the former associate or jointly controlled entity</th>\n",
              "      <th>Non-controlling interest in pre-acquisition share capital</th>\n",
              "      <th>Non-controlling interests</th>\n",
              "      <th>Total equity</th>\n",
              "      <th>Total liabilities &amp; equity</th>\n",
              "    </tr>\n",
              "    <tr>\n",
              "      <th>ï»¿CO_ID</th>\n",
              "      <th></th>\n",
              "      <th></th>\n",
              "      <th></th>\n",
              "      <th></th>\n",
              "      <th></th>\n",
              "      <th></th>\n",
              "      <th></th>\n",
              "      <th></th>\n",
              "      <th></th>\n",
              "      <th></th>\n",
              "      <th></th>\n",
              "      <th></th>\n",
              "      <th></th>\n",
              "      <th></th>\n",
              "      <th></th>\n",
              "      <th></th>\n",
              "      <th></th>\n",
              "      <th></th>\n",
              "      <th></th>\n",
              "      <th></th>\n",
              "      <th></th>\n",
              "    </tr>\n",
              "  </thead>\n",
              "  <tbody>\n",
              "    <tr>\n",
              "      <th>1101 TCC</th>\n",
              "      <td>2023/12</td>\n",
              "      <td>4</td>\n",
              "      <td>Y</td>\n",
              "      <td>12</td>\n",
              "      <td>NTD</td>\n",
              "      <td>66366622.0</td>\n",
              "      <td>727762.0</td>\n",
              "      <td>6972790.0</td>\n",
              "      <td>34236957.0</td>\n",
              "      <td>0.0</td>\n",
              "      <td>...</td>\n",
              "      <td>0.0</td>\n",
              "      <td>0.0</td>\n",
              "      <td>9457953.0</td>\n",
              "      <td>(732459.00)</td>\n",
              "      <td>230933254.0</td>\n",
              "      <td>0.0</td>\n",
              "      <td>0.0</td>\n",
              "      <td>22967787.0</td>\n",
              "      <td>253901041.0</td>\n",
              "      <td>469438522.0</td>\n",
              "    </tr>\n",
              "    <tr>\n",
              "      <th>1102 ACC</th>\n",
              "      <td>2023/12</td>\n",
              "      <td>4</td>\n",
              "      <td>Y</td>\n",
              "      <td>12</td>\n",
              "      <td>NTD</td>\n",
              "      <td>33229516.0</td>\n",
              "      <td>39719980.0</td>\n",
              "      <td>4307126.0</td>\n",
              "      <td>21684983.0</td>\n",
              "      <td>0.0</td>\n",
              "      <td>...</td>\n",
              "      <td>0.0</td>\n",
              "      <td>0.0</td>\n",
              "      <td>7219740.0</td>\n",
              "      <td>0.00</td>\n",
              "      <td>169169896.0</td>\n",
              "      <td>0.0</td>\n",
              "      <td>0.0</td>\n",
              "      <td>22693671.0</td>\n",
              "      <td>191863567.0</td>\n",
              "      <td>336726851.0</td>\n",
              "    </tr>\n",
              "  </tbody>\n",
              "</table>\n",
              "<p>2 rows × 111 columns</p>\n",
              "</div>\n",
              "    <div class=\"colab-df-buttons\">\n",
              "\n",
              "  <div class=\"colab-df-container\">\n",
              "    <button class=\"colab-df-convert\" onclick=\"convertToInteractive('df-96c33d39-cd92-4be2-85eb-e4bf1882e525')\"\n",
              "            title=\"Convert this dataframe to an interactive table.\"\n",
              "            style=\"display:none;\">\n",
              "\n",
              "  <svg xmlns=\"http://www.w3.org/2000/svg\" height=\"24px\" viewBox=\"0 -960 960 960\">\n",
              "    <path d=\"M120-120v-720h720v720H120Zm60-500h600v-160H180v160Zm220 220h160v-160H400v160Zm0 220h160v-160H400v160ZM180-400h160v-160H180v160Zm440 0h160v-160H620v160ZM180-180h160v-160H180v160Zm440 0h160v-160H620v160Z\"/>\n",
              "  </svg>\n",
              "    </button>\n",
              "\n",
              "  <style>\n",
              "    .colab-df-container {\n",
              "      display:flex;\n",
              "      gap: 12px;\n",
              "    }\n",
              "\n",
              "    .colab-df-convert {\n",
              "      background-color: #E8F0FE;\n",
              "      border: none;\n",
              "      border-radius: 50%;\n",
              "      cursor: pointer;\n",
              "      display: none;\n",
              "      fill: #1967D2;\n",
              "      height: 32px;\n",
              "      padding: 0 0 0 0;\n",
              "      width: 32px;\n",
              "    }\n",
              "\n",
              "    .colab-df-convert:hover {\n",
              "      background-color: #E2EBFA;\n",
              "      box-shadow: 0px 1px 2px rgba(60, 64, 67, 0.3), 0px 1px 3px 1px rgba(60, 64, 67, 0.15);\n",
              "      fill: #174EA6;\n",
              "    }\n",
              "\n",
              "    .colab-df-buttons div {\n",
              "      margin-bottom: 4px;\n",
              "    }\n",
              "\n",
              "    [theme=dark] .colab-df-convert {\n",
              "      background-color: #3B4455;\n",
              "      fill: #D2E3FC;\n",
              "    }\n",
              "\n",
              "    [theme=dark] .colab-df-convert:hover {\n",
              "      background-color: #434B5C;\n",
              "      box-shadow: 0px 1px 3px 1px rgba(0, 0, 0, 0.15);\n",
              "      filter: drop-shadow(0px 1px 2px rgba(0, 0, 0, 0.3));\n",
              "      fill: #FFFFFF;\n",
              "    }\n",
              "  </style>\n",
              "\n",
              "    <script>\n",
              "      const buttonEl =\n",
              "        document.querySelector('#df-96c33d39-cd92-4be2-85eb-e4bf1882e525 button.colab-df-convert');\n",
              "      buttonEl.style.display =\n",
              "        google.colab.kernel.accessAllowed ? 'block' : 'none';\n",
              "\n",
              "      async function convertToInteractive(key) {\n",
              "        const element = document.querySelector('#df-96c33d39-cd92-4be2-85eb-e4bf1882e525');\n",
              "        const dataTable =\n",
              "          await google.colab.kernel.invokeFunction('convertToInteractive',\n",
              "                                                    [key], {});\n",
              "        if (!dataTable) return;\n",
              "\n",
              "        const docLinkHtml = 'Like what you see? Visit the ' +\n",
              "          '<a target=\"_blank\" href=https://colab.research.google.com/notebooks/data_table.ipynb>data table notebook</a>'\n",
              "          + ' to learn more about interactive tables.';\n",
              "        element.innerHTML = '';\n",
              "        dataTable['output_type'] = 'display_data';\n",
              "        await google.colab.output.renderOutput(dataTable, element);\n",
              "        const docLink = document.createElement('div');\n",
              "        docLink.innerHTML = docLinkHtml;\n",
              "        element.appendChild(docLink);\n",
              "      }\n",
              "    </script>\n",
              "  </div>\n",
              "\n",
              "\n",
              "<div id=\"df-728a3f94-052a-4590-8304-e706b1dc386e\">\n",
              "  <button class=\"colab-df-quickchart\" onclick=\"quickchart('df-728a3f94-052a-4590-8304-e706b1dc386e')\"\n",
              "            title=\"Suggest charts\"\n",
              "            style=\"display:none;\">\n",
              "\n",
              "<svg xmlns=\"http://www.w3.org/2000/svg\" height=\"24px\"viewBox=\"0 0 24 24\"\n",
              "     width=\"24px\">\n",
              "    <g>\n",
              "        <path d=\"M19 3H5c-1.1 0-2 .9-2 2v14c0 1.1.9 2 2 2h14c1.1 0 2-.9 2-2V5c0-1.1-.9-2-2-2zM9 17H7v-7h2v7zm4 0h-2V7h2v10zm4 0h-2v-4h2v4z\"/>\n",
              "    </g>\n",
              "</svg>\n",
              "  </button>\n",
              "\n",
              "<style>\n",
              "  .colab-df-quickchart {\n",
              "      --bg-color: #E8F0FE;\n",
              "      --fill-color: #1967D2;\n",
              "      --hover-bg-color: #E2EBFA;\n",
              "      --hover-fill-color: #174EA6;\n",
              "      --disabled-fill-color: #AAA;\n",
              "      --disabled-bg-color: #DDD;\n",
              "  }\n",
              "\n",
              "  [theme=dark] .colab-df-quickchart {\n",
              "      --bg-color: #3B4455;\n",
              "      --fill-color: #D2E3FC;\n",
              "      --hover-bg-color: #434B5C;\n",
              "      --hover-fill-color: #FFFFFF;\n",
              "      --disabled-bg-color: #3B4455;\n",
              "      --disabled-fill-color: #666;\n",
              "  }\n",
              "\n",
              "  .colab-df-quickchart {\n",
              "    background-color: var(--bg-color);\n",
              "    border: none;\n",
              "    border-radius: 50%;\n",
              "    cursor: pointer;\n",
              "    display: none;\n",
              "    fill: var(--fill-color);\n",
              "    height: 32px;\n",
              "    padding: 0;\n",
              "    width: 32px;\n",
              "  }\n",
              "\n",
              "  .colab-df-quickchart:hover {\n",
              "    background-color: var(--hover-bg-color);\n",
              "    box-shadow: 0 1px 2px rgba(60, 64, 67, 0.3), 0 1px 3px 1px rgba(60, 64, 67, 0.15);\n",
              "    fill: var(--button-hover-fill-color);\n",
              "  }\n",
              "\n",
              "  .colab-df-quickchart-complete:disabled,\n",
              "  .colab-df-quickchart-complete:disabled:hover {\n",
              "    background-color: var(--disabled-bg-color);\n",
              "    fill: var(--disabled-fill-color);\n",
              "    box-shadow: none;\n",
              "  }\n",
              "\n",
              "  .colab-df-spinner {\n",
              "    border: 2px solid var(--fill-color);\n",
              "    border-color: transparent;\n",
              "    border-bottom-color: var(--fill-color);\n",
              "    animation:\n",
              "      spin 1s steps(1) infinite;\n",
              "  }\n",
              "\n",
              "  @keyframes spin {\n",
              "    0% {\n",
              "      border-color: transparent;\n",
              "      border-bottom-color: var(--fill-color);\n",
              "      border-left-color: var(--fill-color);\n",
              "    }\n",
              "    20% {\n",
              "      border-color: transparent;\n",
              "      border-left-color: var(--fill-color);\n",
              "      border-top-color: var(--fill-color);\n",
              "    }\n",
              "    30% {\n",
              "      border-color: transparent;\n",
              "      border-left-color: var(--fill-color);\n",
              "      border-top-color: var(--fill-color);\n",
              "      border-right-color: var(--fill-color);\n",
              "    }\n",
              "    40% {\n",
              "      border-color: transparent;\n",
              "      border-right-color: var(--fill-color);\n",
              "      border-top-color: var(--fill-color);\n",
              "    }\n",
              "    60% {\n",
              "      border-color: transparent;\n",
              "      border-right-color: var(--fill-color);\n",
              "    }\n",
              "    80% {\n",
              "      border-color: transparent;\n",
              "      border-right-color: var(--fill-color);\n",
              "      border-bottom-color: var(--fill-color);\n",
              "    }\n",
              "    90% {\n",
              "      border-color: transparent;\n",
              "      border-bottom-color: var(--fill-color);\n",
              "    }\n",
              "  }\n",
              "</style>\n",
              "\n",
              "  <script>\n",
              "    async function quickchart(key) {\n",
              "      const quickchartButtonEl =\n",
              "        document.querySelector('#' + key + ' button');\n",
              "      quickchartButtonEl.disabled = true;  // To prevent multiple clicks.\n",
              "      quickchartButtonEl.classList.add('colab-df-spinner');\n",
              "      try {\n",
              "        const charts = await google.colab.kernel.invokeFunction(\n",
              "            'suggestCharts', [key], {});\n",
              "      } catch (error) {\n",
              "        console.error('Error during call to suggestCharts:', error);\n",
              "      }\n",
              "      quickchartButtonEl.classList.remove('colab-df-spinner');\n",
              "      quickchartButtonEl.classList.add('colab-df-quickchart-complete');\n",
              "    }\n",
              "    (() => {\n",
              "      let quickchartButtonEl =\n",
              "        document.querySelector('#df-728a3f94-052a-4590-8304-e706b1dc386e button');\n",
              "      quickchartButtonEl.style.display =\n",
              "        google.colab.kernel.accessAllowed ? 'block' : 'none';\n",
              "    })();\n",
              "  </script>\n",
              "</div>\n",
              "\n",
              "  <div id=\"id_f6479206-5325-48eb-af4b-62212be836b5\">\n",
              "    <style>\n",
              "      .colab-df-generate {\n",
              "        background-color: #E8F0FE;\n",
              "        border: none;\n",
              "        border-radius: 50%;\n",
              "        cursor: pointer;\n",
              "        display: none;\n",
              "        fill: #1967D2;\n",
              "        height: 32px;\n",
              "        padding: 0 0 0 0;\n",
              "        width: 32px;\n",
              "      }\n",
              "\n",
              "      .colab-df-generate:hover {\n",
              "        background-color: #E2EBFA;\n",
              "        box-shadow: 0px 1px 2px rgba(60, 64, 67, 0.3), 0px 1px 3px 1px rgba(60, 64, 67, 0.15);\n",
              "        fill: #174EA6;\n",
              "      }\n",
              "\n",
              "      [theme=dark] .colab-df-generate {\n",
              "        background-color: #3B4455;\n",
              "        fill: #D2E3FC;\n",
              "      }\n",
              "\n",
              "      [theme=dark] .colab-df-generate:hover {\n",
              "        background-color: #434B5C;\n",
              "        box-shadow: 0px 1px 3px 1px rgba(0, 0, 0, 0.15);\n",
              "        filter: drop-shadow(0px 1px 2px rgba(0, 0, 0, 0.3));\n",
              "        fill: #FFFFFF;\n",
              "      }\n",
              "    </style>\n",
              "    <button class=\"colab-df-generate\" onclick=\"generateWithVariable('df1')\"\n",
              "            title=\"Generate code using this dataframe.\"\n",
              "            style=\"display:none;\">\n",
              "\n",
              "  <svg xmlns=\"http://www.w3.org/2000/svg\" height=\"24px\"viewBox=\"0 0 24 24\"\n",
              "       width=\"24px\">\n",
              "    <path d=\"M7,19H8.4L18.45,9,17,7.55,7,17.6ZM5,21V16.75L18.45,3.32a2,2,0,0,1,2.83,0l1.4,1.43a1.91,1.91,0,0,1,.58,1.4,1.91,1.91,0,0,1-.58,1.4L9.25,21ZM18.45,9,17,7.55Zm-12,3A5.31,5.31,0,0,0,4.9,8.1,5.31,5.31,0,0,0,1,6.5,5.31,5.31,0,0,0,4.9,4.9,5.31,5.31,0,0,0,6.5,1,5.31,5.31,0,0,0,8.1,4.9,5.31,5.31,0,0,0,12,6.5,5.46,5.46,0,0,0,6.5,12Z\"/>\n",
              "  </svg>\n",
              "    </button>\n",
              "    <script>\n",
              "      (() => {\n",
              "      const buttonEl =\n",
              "        document.querySelector('#id_f6479206-5325-48eb-af4b-62212be836b5 button.colab-df-generate');\n",
              "      buttonEl.style.display =\n",
              "        google.colab.kernel.accessAllowed ? 'block' : 'none';\n",
              "\n",
              "      buttonEl.onclick = () => {\n",
              "        google.colab.notebook.generateWithVariable('df1');\n",
              "      }\n",
              "      })();\n",
              "    </script>\n",
              "  </div>\n",
              "\n",
              "    </div>\n",
              "  </div>\n"
            ],
            "application/vnd.google.colaboratory.intrinsic+json": {
              "type": "dataframe",
              "variable_name": "df1"
            }
          },
          "metadata": {},
          "execution_count": 60
        }
      ]
    },
    {
      "cell_type": "code",
      "source": [
        "url = \"https://raw.githubusercontent.com/weiping0602/fin_data/refs/heads/main/Income%20Statement.csv\""
      ],
      "metadata": {
        "id": "2U--a-a6p4c_"
      },
      "execution_count": 61,
      "outputs": []
    },
    {
      "cell_type": "code",
      "source": [
        "df2 = pd.read_csv(url, index_col=0, encoding='unicode_escape')"
      ],
      "metadata": {
        "id": "zWB0lqAtqGJs"
      },
      "execution_count": 62,
      "outputs": []
    },
    {
      "cell_type": "code",
      "source": [
        "df2"
      ],
      "metadata": {
        "colab": {
          "base_uri": "https://localhost:8080/",
          "height": 331
        },
        "id": "pAxwPjLcqIOA",
        "outputId": "b971d65e-0cb2-4a6c-b426-bb52f4223a45"
      },
      "execution_count": 63,
      "outputs": [
        {
          "output_type": "execute_result",
          "data": {
            "text/plain": [
              "          YYYY/MM  Gross operating revenue  Total rental revenue  \\\n",
              "ï»¿CO_ID                                                           \n",
              "1101 TCC  45261.0              109314335.0                   0.0   \n",
              "1102 ACC  45261.0               78727593.0              992954.0   \n",
              "\n",
              "          Operating revenue - Disposal of lands  Interest revenue  \\\n",
              "ï»¿CO_ID                                                            \n",
              "1101 TCC                                    0.0               0.0   \n",
              "1102 ACC                                    0.0               0.0   \n",
              "\n",
              "          Operating revenue - disposal of investments  \\\n",
              "ï»¿CO_ID                                                \n",
              "1101 TCC                                          0.0   \n",
              "1102 ACC                                    2461434.0   \n",
              "\n",
              "          Total investment revenue  Sales discounts and allowances  \\\n",
              "ï»¿CO_ID                                                             \n",
              "1101 TCC                       0.0                             0.0   \n",
              "1102 ACC                  461190.0                         79162.0   \n",
              "\n",
              "          Total operating revenue  Cost of goods sold (A) ã  ...  \\\n",
              "ï»¿CO_ID                                                       ...   \n",
              "1101 TCC              109314335.0                  88780566.0  ...   \n",
              "1102 ACC               82564009.0                  69745612.0  ...   \n",
              "\n",
              "          Preferred stock dividends  Diluted net income  \\\n",
              "ï»¿CO_ID                                                  \n",
              "1101 TCC                   350000.0           7951328.0   \n",
              "1102 ACC                        0.0          10882826.0   \n",
              "\n",
              "          Total diluted earnings per share  \\\n",
              "ï»¿CO_ID                                     \n",
              "1101 TCC                              1.04   \n",
              "1102 ACC                              3.28   \n",
              "\n",
              "          Average diluted common shares (Thousand)  \\\n",
              "ï»¿CO_ID                                             \n",
              "1101 TCC                                 7659839.0   \n",
              "1102 ACC                                 3320343.0   \n",
              "\n",
              "          Earnings before interest and tax  \\\n",
              "ï»¿CO_ID                                     \n",
              "1101 TCC                        17899515.0   \n",
              "1102 ACC                        15708818.0   \n",
              "\n",
              "          Earnings before interest, tax, depreciation and amortization  \\\n",
              "ï»¿CO_ID                                                                 \n",
              "1101 TCC                                         27184237.0              \n",
              "1102 ACC                                         20464516.0              \n",
              "\n",
              "          Recurring net income  Treasury shares-buys back  \\\n",
              "ï»¿CO_ID                                                    \n",
              "1101 TCC            10600473.0                    20000.0   \n",
              "1102 ACC             8010305.0                        0.0   \n",
              "\n",
              "          Treasury shares-subsidiary holding  Total treasury shares  \n",
              "ï»¿CO_ID                                                             \n",
              "1101 TCC                                 0.0                20000.0  \n",
              "1102 ACC                                 0.0                    0.0  \n",
              "\n",
              "[2 rows x 129 columns]"
            ],
            "text/html": [
              "\n",
              "  <div id=\"df-6ccc74ed-7112-400d-9eff-9433e90f9d18\" class=\"colab-df-container\">\n",
              "    <div>\n",
              "<style scoped>\n",
              "    .dataframe tbody tr th:only-of-type {\n",
              "        vertical-align: middle;\n",
              "    }\n",
              "\n",
              "    .dataframe tbody tr th {\n",
              "        vertical-align: top;\n",
              "    }\n",
              "\n",
              "    .dataframe thead th {\n",
              "        text-align: right;\n",
              "    }\n",
              "</style>\n",
              "<table border=\"1\" class=\"dataframe\">\n",
              "  <thead>\n",
              "    <tr style=\"text-align: right;\">\n",
              "      <th></th>\n",
              "      <th>YYYY/MM</th>\n",
              "      <th>Gross operating revenue</th>\n",
              "      <th>Total rental revenue</th>\n",
              "      <th>Operating revenue - Disposal of lands</th>\n",
              "      <th>Interest revenue</th>\n",
              "      <th>Operating revenue - disposal of investments</th>\n",
              "      <th>Total investment revenue</th>\n",
              "      <th>Sales discounts and allowances</th>\n",
              "      <th>Total operating revenue</th>\n",
              "      <th>Cost of goods sold (A) ã</th>\n",
              "      <th>...</th>\n",
              "      <th>Preferred stock dividends</th>\n",
              "      <th>Diluted net income</th>\n",
              "      <th>Total diluted earnings per share</th>\n",
              "      <th>Average diluted common shares (Thousand)</th>\n",
              "      <th>Earnings before interest and tax</th>\n",
              "      <th>Earnings before interest, tax, depreciation and amortization</th>\n",
              "      <th>Recurring net income</th>\n",
              "      <th>Treasury shares-buys back</th>\n",
              "      <th>Treasury shares-subsidiary holding</th>\n",
              "      <th>Total treasury shares</th>\n",
              "    </tr>\n",
              "    <tr>\n",
              "      <th>ï»¿CO_ID</th>\n",
              "      <th></th>\n",
              "      <th></th>\n",
              "      <th></th>\n",
              "      <th></th>\n",
              "      <th></th>\n",
              "      <th></th>\n",
              "      <th></th>\n",
              "      <th></th>\n",
              "      <th></th>\n",
              "      <th></th>\n",
              "      <th></th>\n",
              "      <th></th>\n",
              "      <th></th>\n",
              "      <th></th>\n",
              "      <th></th>\n",
              "      <th></th>\n",
              "      <th></th>\n",
              "      <th></th>\n",
              "      <th></th>\n",
              "      <th></th>\n",
              "      <th></th>\n",
              "    </tr>\n",
              "  </thead>\n",
              "  <tbody>\n",
              "    <tr>\n",
              "      <th>1101 TCC</th>\n",
              "      <td>45261.0</td>\n",
              "      <td>109314335.0</td>\n",
              "      <td>0.0</td>\n",
              "      <td>0.0</td>\n",
              "      <td>0.0</td>\n",
              "      <td>0.0</td>\n",
              "      <td>0.0</td>\n",
              "      <td>0.0</td>\n",
              "      <td>109314335.0</td>\n",
              "      <td>88780566.0</td>\n",
              "      <td>...</td>\n",
              "      <td>350000.0</td>\n",
              "      <td>7951328.0</td>\n",
              "      <td>1.04</td>\n",
              "      <td>7659839.0</td>\n",
              "      <td>17899515.0</td>\n",
              "      <td>27184237.0</td>\n",
              "      <td>10600473.0</td>\n",
              "      <td>20000.0</td>\n",
              "      <td>0.0</td>\n",
              "      <td>20000.0</td>\n",
              "    </tr>\n",
              "    <tr>\n",
              "      <th>1102 ACC</th>\n",
              "      <td>45261.0</td>\n",
              "      <td>78727593.0</td>\n",
              "      <td>992954.0</td>\n",
              "      <td>0.0</td>\n",
              "      <td>0.0</td>\n",
              "      <td>2461434.0</td>\n",
              "      <td>461190.0</td>\n",
              "      <td>79162.0</td>\n",
              "      <td>82564009.0</td>\n",
              "      <td>69745612.0</td>\n",
              "      <td>...</td>\n",
              "      <td>0.0</td>\n",
              "      <td>10882826.0</td>\n",
              "      <td>3.28</td>\n",
              "      <td>3320343.0</td>\n",
              "      <td>15708818.0</td>\n",
              "      <td>20464516.0</td>\n",
              "      <td>8010305.0</td>\n",
              "      <td>0.0</td>\n",
              "      <td>0.0</td>\n",
              "      <td>0.0</td>\n",
              "    </tr>\n",
              "  </tbody>\n",
              "</table>\n",
              "<p>2 rows × 129 columns</p>\n",
              "</div>\n",
              "    <div class=\"colab-df-buttons\">\n",
              "\n",
              "  <div class=\"colab-df-container\">\n",
              "    <button class=\"colab-df-convert\" onclick=\"convertToInteractive('df-6ccc74ed-7112-400d-9eff-9433e90f9d18')\"\n",
              "            title=\"Convert this dataframe to an interactive table.\"\n",
              "            style=\"display:none;\">\n",
              "\n",
              "  <svg xmlns=\"http://www.w3.org/2000/svg\" height=\"24px\" viewBox=\"0 -960 960 960\">\n",
              "    <path d=\"M120-120v-720h720v720H120Zm60-500h600v-160H180v160Zm220 220h160v-160H400v160Zm0 220h160v-160H400v160ZM180-400h160v-160H180v160Zm440 0h160v-160H620v160ZM180-180h160v-160H180v160Zm440 0h160v-160H620v160Z\"/>\n",
              "  </svg>\n",
              "    </button>\n",
              "\n",
              "  <style>\n",
              "    .colab-df-container {\n",
              "      display:flex;\n",
              "      gap: 12px;\n",
              "    }\n",
              "\n",
              "    .colab-df-convert {\n",
              "      background-color: #E8F0FE;\n",
              "      border: none;\n",
              "      border-radius: 50%;\n",
              "      cursor: pointer;\n",
              "      display: none;\n",
              "      fill: #1967D2;\n",
              "      height: 32px;\n",
              "      padding: 0 0 0 0;\n",
              "      width: 32px;\n",
              "    }\n",
              "\n",
              "    .colab-df-convert:hover {\n",
              "      background-color: #E2EBFA;\n",
              "      box-shadow: 0px 1px 2px rgba(60, 64, 67, 0.3), 0px 1px 3px 1px rgba(60, 64, 67, 0.15);\n",
              "      fill: #174EA6;\n",
              "    }\n",
              "\n",
              "    .colab-df-buttons div {\n",
              "      margin-bottom: 4px;\n",
              "    }\n",
              "\n",
              "    [theme=dark] .colab-df-convert {\n",
              "      background-color: #3B4455;\n",
              "      fill: #D2E3FC;\n",
              "    }\n",
              "\n",
              "    [theme=dark] .colab-df-convert:hover {\n",
              "      background-color: #434B5C;\n",
              "      box-shadow: 0px 1px 3px 1px rgba(0, 0, 0, 0.15);\n",
              "      filter: drop-shadow(0px 1px 2px rgba(0, 0, 0, 0.3));\n",
              "      fill: #FFFFFF;\n",
              "    }\n",
              "  </style>\n",
              "\n",
              "    <script>\n",
              "      const buttonEl =\n",
              "        document.querySelector('#df-6ccc74ed-7112-400d-9eff-9433e90f9d18 button.colab-df-convert');\n",
              "      buttonEl.style.display =\n",
              "        google.colab.kernel.accessAllowed ? 'block' : 'none';\n",
              "\n",
              "      async function convertToInteractive(key) {\n",
              "        const element = document.querySelector('#df-6ccc74ed-7112-400d-9eff-9433e90f9d18');\n",
              "        const dataTable =\n",
              "          await google.colab.kernel.invokeFunction('convertToInteractive',\n",
              "                                                    [key], {});\n",
              "        if (!dataTable) return;\n",
              "\n",
              "        const docLinkHtml = 'Like what you see? Visit the ' +\n",
              "          '<a target=\"_blank\" href=https://colab.research.google.com/notebooks/data_table.ipynb>data table notebook</a>'\n",
              "          + ' to learn more about interactive tables.';\n",
              "        element.innerHTML = '';\n",
              "        dataTable['output_type'] = 'display_data';\n",
              "        await google.colab.output.renderOutput(dataTable, element);\n",
              "        const docLink = document.createElement('div');\n",
              "        docLink.innerHTML = docLinkHtml;\n",
              "        element.appendChild(docLink);\n",
              "      }\n",
              "    </script>\n",
              "  </div>\n",
              "\n",
              "\n",
              "<div id=\"df-65843937-77ed-4720-a902-e6acd828c1d7\">\n",
              "  <button class=\"colab-df-quickchart\" onclick=\"quickchart('df-65843937-77ed-4720-a902-e6acd828c1d7')\"\n",
              "            title=\"Suggest charts\"\n",
              "            style=\"display:none;\">\n",
              "\n",
              "<svg xmlns=\"http://www.w3.org/2000/svg\" height=\"24px\"viewBox=\"0 0 24 24\"\n",
              "     width=\"24px\">\n",
              "    <g>\n",
              "        <path d=\"M19 3H5c-1.1 0-2 .9-2 2v14c0 1.1.9 2 2 2h14c1.1 0 2-.9 2-2V5c0-1.1-.9-2-2-2zM9 17H7v-7h2v7zm4 0h-2V7h2v10zm4 0h-2v-4h2v4z\"/>\n",
              "    </g>\n",
              "</svg>\n",
              "  </button>\n",
              "\n",
              "<style>\n",
              "  .colab-df-quickchart {\n",
              "      --bg-color: #E8F0FE;\n",
              "      --fill-color: #1967D2;\n",
              "      --hover-bg-color: #E2EBFA;\n",
              "      --hover-fill-color: #174EA6;\n",
              "      --disabled-fill-color: #AAA;\n",
              "      --disabled-bg-color: #DDD;\n",
              "  }\n",
              "\n",
              "  [theme=dark] .colab-df-quickchart {\n",
              "      --bg-color: #3B4455;\n",
              "      --fill-color: #D2E3FC;\n",
              "      --hover-bg-color: #434B5C;\n",
              "      --hover-fill-color: #FFFFFF;\n",
              "      --disabled-bg-color: #3B4455;\n",
              "      --disabled-fill-color: #666;\n",
              "  }\n",
              "\n",
              "  .colab-df-quickchart {\n",
              "    background-color: var(--bg-color);\n",
              "    border: none;\n",
              "    border-radius: 50%;\n",
              "    cursor: pointer;\n",
              "    display: none;\n",
              "    fill: var(--fill-color);\n",
              "    height: 32px;\n",
              "    padding: 0;\n",
              "    width: 32px;\n",
              "  }\n",
              "\n",
              "  .colab-df-quickchart:hover {\n",
              "    background-color: var(--hover-bg-color);\n",
              "    box-shadow: 0 1px 2px rgba(60, 64, 67, 0.3), 0 1px 3px 1px rgba(60, 64, 67, 0.15);\n",
              "    fill: var(--button-hover-fill-color);\n",
              "  }\n",
              "\n",
              "  .colab-df-quickchart-complete:disabled,\n",
              "  .colab-df-quickchart-complete:disabled:hover {\n",
              "    background-color: var(--disabled-bg-color);\n",
              "    fill: var(--disabled-fill-color);\n",
              "    box-shadow: none;\n",
              "  }\n",
              "\n",
              "  .colab-df-spinner {\n",
              "    border: 2px solid var(--fill-color);\n",
              "    border-color: transparent;\n",
              "    border-bottom-color: var(--fill-color);\n",
              "    animation:\n",
              "      spin 1s steps(1) infinite;\n",
              "  }\n",
              "\n",
              "  @keyframes spin {\n",
              "    0% {\n",
              "      border-color: transparent;\n",
              "      border-bottom-color: var(--fill-color);\n",
              "      border-left-color: var(--fill-color);\n",
              "    }\n",
              "    20% {\n",
              "      border-color: transparent;\n",
              "      border-left-color: var(--fill-color);\n",
              "      border-top-color: var(--fill-color);\n",
              "    }\n",
              "    30% {\n",
              "      border-color: transparent;\n",
              "      border-left-color: var(--fill-color);\n",
              "      border-top-color: var(--fill-color);\n",
              "      border-right-color: var(--fill-color);\n",
              "    }\n",
              "    40% {\n",
              "      border-color: transparent;\n",
              "      border-right-color: var(--fill-color);\n",
              "      border-top-color: var(--fill-color);\n",
              "    }\n",
              "    60% {\n",
              "      border-color: transparent;\n",
              "      border-right-color: var(--fill-color);\n",
              "    }\n",
              "    80% {\n",
              "      border-color: transparent;\n",
              "      border-right-color: var(--fill-color);\n",
              "      border-bottom-color: var(--fill-color);\n",
              "    }\n",
              "    90% {\n",
              "      border-color: transparent;\n",
              "      border-bottom-color: var(--fill-color);\n",
              "    }\n",
              "  }\n",
              "</style>\n",
              "\n",
              "  <script>\n",
              "    async function quickchart(key) {\n",
              "      const quickchartButtonEl =\n",
              "        document.querySelector('#' + key + ' button');\n",
              "      quickchartButtonEl.disabled = true;  // To prevent multiple clicks.\n",
              "      quickchartButtonEl.classList.add('colab-df-spinner');\n",
              "      try {\n",
              "        const charts = await google.colab.kernel.invokeFunction(\n",
              "            'suggestCharts', [key], {});\n",
              "      } catch (error) {\n",
              "        console.error('Error during call to suggestCharts:', error);\n",
              "      }\n",
              "      quickchartButtonEl.classList.remove('colab-df-spinner');\n",
              "      quickchartButtonEl.classList.add('colab-df-quickchart-complete');\n",
              "    }\n",
              "    (() => {\n",
              "      let quickchartButtonEl =\n",
              "        document.querySelector('#df-65843937-77ed-4720-a902-e6acd828c1d7 button');\n",
              "      quickchartButtonEl.style.display =\n",
              "        google.colab.kernel.accessAllowed ? 'block' : 'none';\n",
              "    })();\n",
              "  </script>\n",
              "</div>\n",
              "\n",
              "  <div id=\"id_3e2c0a6c-6479-456f-a36e-4d28b20ba97a\">\n",
              "    <style>\n",
              "      .colab-df-generate {\n",
              "        background-color: #E8F0FE;\n",
              "        border: none;\n",
              "        border-radius: 50%;\n",
              "        cursor: pointer;\n",
              "        display: none;\n",
              "        fill: #1967D2;\n",
              "        height: 32px;\n",
              "        padding: 0 0 0 0;\n",
              "        width: 32px;\n",
              "      }\n",
              "\n",
              "      .colab-df-generate:hover {\n",
              "        background-color: #E2EBFA;\n",
              "        box-shadow: 0px 1px 2px rgba(60, 64, 67, 0.3), 0px 1px 3px 1px rgba(60, 64, 67, 0.15);\n",
              "        fill: #174EA6;\n",
              "      }\n",
              "\n",
              "      [theme=dark] .colab-df-generate {\n",
              "        background-color: #3B4455;\n",
              "        fill: #D2E3FC;\n",
              "      }\n",
              "\n",
              "      [theme=dark] .colab-df-generate:hover {\n",
              "        background-color: #434B5C;\n",
              "        box-shadow: 0px 1px 3px 1px rgba(0, 0, 0, 0.15);\n",
              "        filter: drop-shadow(0px 1px 2px rgba(0, 0, 0, 0.3));\n",
              "        fill: #FFFFFF;\n",
              "      }\n",
              "    </style>\n",
              "    <button class=\"colab-df-generate\" onclick=\"generateWithVariable('df2')\"\n",
              "            title=\"Generate code using this dataframe.\"\n",
              "            style=\"display:none;\">\n",
              "\n",
              "  <svg xmlns=\"http://www.w3.org/2000/svg\" height=\"24px\"viewBox=\"0 0 24 24\"\n",
              "       width=\"24px\">\n",
              "    <path d=\"M7,19H8.4L18.45,9,17,7.55,7,17.6ZM5,21V16.75L18.45,3.32a2,2,0,0,1,2.83,0l1.4,1.43a1.91,1.91,0,0,1,.58,1.4,1.91,1.91,0,0,1-.58,1.4L9.25,21ZM18.45,9,17,7.55Zm-12,3A5.31,5.31,0,0,0,4.9,8.1,5.31,5.31,0,0,0,1,6.5,5.31,5.31,0,0,0,4.9,4.9,5.31,5.31,0,0,0,6.5,1,5.31,5.31,0,0,0,8.1,4.9,5.31,5.31,0,0,0,12,6.5,5.46,5.46,0,0,0,6.5,12Z\"/>\n",
              "  </svg>\n",
              "    </button>\n",
              "    <script>\n",
              "      (() => {\n",
              "      const buttonEl =\n",
              "        document.querySelector('#id_3e2c0a6c-6479-456f-a36e-4d28b20ba97a button.colab-df-generate');\n",
              "      buttonEl.style.display =\n",
              "        google.colab.kernel.accessAllowed ? 'block' : 'none';\n",
              "\n",
              "      buttonEl.onclick = () => {\n",
              "        google.colab.notebook.generateWithVariable('df2');\n",
              "      }\n",
              "      })();\n",
              "    </script>\n",
              "  </div>\n",
              "\n",
              "    </div>\n",
              "  </div>\n"
            ],
            "application/vnd.google.colaboratory.intrinsic+json": {
              "type": "dataframe",
              "variable_name": "df2"
            }
          },
          "metadata": {},
          "execution_count": 63
        }
      ]
    },
    {
      "cell_type": "code",
      "source": [
        "df1.columns"
      ],
      "metadata": {
        "colab": {
          "base_uri": "https://localhost:8080/"
        },
        "id": "T8VcpUaOqyNP",
        "outputId": "fa6fab1d-59e5-4fb6-a6c4-a095d7f202ae"
      },
      "execution_count": 64,
      "outputs": [
        {
          "output_type": "execute_result",
          "data": {
            "text/plain": [
              "Index(['YYYY/MM', 'Quarter', 'consolidation', 'Month', 'Currency',\n",
              "       'Total cash and cash equivalents',\n",
              "       'Total current financial assets at fair value through profit or loss',\n",
              "       'Financial assets at fair value through other comprehensive income - Current',\n",
              "       'Financial assets measured at amortized cost - Current',\n",
              "       'Current financial assets for hedging',\n",
              "       ...\n",
              "       'Other equity - unearned compensation', 'Other equity, others',\n",
              "       'Total other equity interest', 'Treasury shares',\n",
              "       'Total equity attributable to owners of parent',\n",
              "       'Interests in the former associate or jointly controlled entity',\n",
              "       'Non-controlling interest in pre-acquisition share capital',\n",
              "       'Non-controlling interests', 'Total equity',\n",
              "       'Total liabilities & equity'],\n",
              "      dtype='object', length=111)"
            ]
          },
          "metadata": {},
          "execution_count": 64
        }
      ]
    },
    {
      "cell_type": "code",
      "source": [
        "df2.columns"
      ],
      "metadata": {
        "colab": {
          "base_uri": "https://localhost:8080/"
        },
        "id": "lDb23h1qrdSt",
        "outputId": "0b6fab54-0676-4257-f489-c0e477147549"
      },
      "execution_count": 65,
      "outputs": [
        {
          "output_type": "execute_result",
          "data": {
            "text/plain": [
              "Index(['YYYY/MM', 'Gross operating revenue', 'Total rental revenue',\n",
              "       'Operating revenue - Disposal of lands', 'Interest revenue',\n",
              "       'Operating revenue - disposal of investments',\n",
              "       'Total investment revenue', 'Sales discounts and allowances',\n",
              "       'Total operating revenue', 'Cost of goods sold (A) ã',\n",
              "       ...\n",
              "       'Preferred stock dividends', 'Diluted net income',\n",
              "       'Total diluted earnings per share',\n",
              "       'Average diluted common shares (Thousand)',\n",
              "       'Earnings before interest and tax',\n",
              "       'Earnings before interest, tax, depreciation and amortization',\n",
              "       'Recurring net income', 'Treasury shares-buys back',\n",
              "       'Treasury shares-subsidiary holding', 'Total treasury shares'],\n",
              "      dtype='object', length=129)"
            ]
          },
          "metadata": {},
          "execution_count": 65
        }
      ]
    },
    {
      "cell_type": "code",
      "source": [
        "df1.index"
      ],
      "metadata": {
        "colab": {
          "base_uri": "https://localhost:8080/"
        },
        "id": "bdq-4Vk0riln",
        "outputId": "b87fd66a-ddae-495b-fd6e-815f7658906d"
      },
      "execution_count": 40,
      "outputs": [
        {
          "output_type": "execute_result",
          "data": {
            "text/plain": [
              "Index(['1101 TCC', '1102 ACC'], dtype='object', name='ï»¿CO_ID')"
            ]
          },
          "metadata": {},
          "execution_count": 40
        }
      ]
    },
    {
      "cell_type": "code",
      "source": [
        "df2.index"
      ],
      "metadata": {
        "colab": {
          "base_uri": "https://localhost:8080/"
        },
        "id": "1YCWP2izrmbX",
        "outputId": "30f7877c-bb17-4ffa-b8f5-d268995f2f45"
      },
      "execution_count": 41,
      "outputs": [
        {
          "output_type": "execute_result",
          "data": {
            "text/plain": [
              "Index(['1101 TCC', '1102 ACC'], dtype='object', name='ï»¿CO_ID')"
            ]
          },
          "metadata": {},
          "execution_count": 41
        }
      ]
    },
    {
      "cell_type": "code",
      "source": [
        "X1 ='Total current assets'\n",
        "X2 ='Total current liabilities'\n",
        "X3 ='Total assets'\n",
        "X4 ='Total retained earnings'\n",
        "X5 ='Earnings before interest and tax'\n",
        "X6 ='Total equity'\n",
        "X7 ='Total operating revenue'\n",
        "TCC ='1101 TCC'\n",
        "ACC ='1102 ACC'\n"
      ],
      "metadata": {
        "id": "-TxvciCrrswY"
      },
      "execution_count": 42,
      "outputs": []
    },
    {
      "cell_type": "code",
      "source": [
        "df1.loc['1101 TCC','Total current assets']"
      ],
      "metadata": {
        "colab": {
          "base_uri": "https://localhost:8080/"
        },
        "id": "ii5Ml46DsLIe",
        "outputId": "de321244-6fbc-4b79-be8b-2fc6a2b61771"
      },
      "execution_count": 66,
      "outputs": [
        {
          "output_type": "execute_result",
          "data": {
            "text/plain": [
              "153113300.0"
            ]
          },
          "metadata": {},
          "execution_count": 66
        }
      ]
    },
    {
      "cell_type": "code",
      "source": [
        "A_1101 = (df1.loc['1101 TCC','Total current assets'] - df1.loc['1101 TCC','Total current liabilities'])/df1.loc['1101 TCC','Total assets']\n"
      ],
      "metadata": {
        "id": "B_evV3s8sSqC"
      },
      "execution_count": 69,
      "outputs": []
    },
    {
      "cell_type": "code",
      "source": [
        "A_1101"
      ],
      "metadata": {
        "colab": {
          "base_uri": "https://localhost:8080/"
        },
        "id": "BSs-JDc7zwuD",
        "outputId": "1201dd1c-7762-4e1e-f883-8cec1049f6ec"
      },
      "execution_count": 70,
      "outputs": [
        {
          "output_type": "execute_result",
          "data": {
            "text/plain": [
              "0.17154975620002486"
            ]
          },
          "metadata": {},
          "execution_count": 70
        }
      ]
    },
    {
      "cell_type": "code",
      "source": [
        "B_1101 = df1.loc['1101 TCC','Total retained earnings'] /df1.loc['1101 TCC','Total assets']"
      ],
      "metadata": {
        "id": "8yfYIe2uzzAm"
      },
      "execution_count": 71,
      "outputs": []
    },
    {
      "cell_type": "code",
      "source": [
        "B_1101"
      ],
      "metadata": {
        "colab": {
          "base_uri": "https://localhost:8080/"
        },
        "id": "xe-bAmCc0Vnw",
        "outputId": "f7869136-251f-4bc0-9086-60c116f28fd6"
      },
      "execution_count": 72,
      "outputs": [
        {
          "output_type": "execute_result",
          "data": {
            "text/plain": [
              "0.15034296865820485"
            ]
          },
          "metadata": {},
          "execution_count": 72
        }
      ]
    },
    {
      "cell_type": "code",
      "source": [
        "C_1101 = df2.loc['1101 TCC','Earnings before interest and tax'] /df1.loc['1101 TCC','Total assets']\n"
      ],
      "metadata": {
        "id": "msiSsB2V0coy"
      },
      "execution_count": 74,
      "outputs": []
    },
    {
      "cell_type": "code",
      "source": [
        "C_1101"
      ],
      "metadata": {
        "colab": {
          "base_uri": "https://localhost:8080/"
        },
        "id": "Q3FdYWEy1Eox",
        "outputId": "fe359558-5d9b-4fdd-ffb8-e1de9f81e5b7"
      },
      "execution_count": 75,
      "outputs": [
        {
          "output_type": "execute_result",
          "data": {
            "text/plain": [
              "0.03812962541663762"
            ]
          },
          "metadata": {},
          "execution_count": 75
        }
      ]
    },
    {
      "cell_type": "code",
      "source": [
        "D_1101 = df1.loc['1101 TCC','Total equity'] /df1.loc['1101 TCC','Total assets']\n"
      ],
      "metadata": {
        "id": "S8hU_eke1Ikp"
      },
      "execution_count": 80,
      "outputs": []
    },
    {
      "cell_type": "code",
      "source": [
        "D_1101"
      ],
      "metadata": {
        "colab": {
          "base_uri": "https://localhost:8080/"
        },
        "id": "njA69rDU1Sfk",
        "outputId": "f5599bf3-27cf-410c-c5c8-f3fc60cfb304"
      },
      "execution_count": 81,
      "outputs": [
        {
          "output_type": "execute_result",
          "data": {
            "text/plain": [
              "0.5408611119476897"
            ]
          },
          "metadata": {},
          "execution_count": 81
        }
      ]
    },
    {
      "cell_type": "code",
      "source": [
        "E_1101 = df2.loc['1101 TCC','Total operating revenue'] /df1.loc['1101 TCC','Total assets']\n"
      ],
      "metadata": {
        "id": "UoKcIuRN1thu"
      },
      "execution_count": 82,
      "outputs": []
    },
    {
      "cell_type": "code",
      "source": [
        "E_1101"
      ],
      "metadata": {
        "colab": {
          "base_uri": "https://localhost:8080/"
        },
        "id": "X-3UXMDU2Bkv",
        "outputId": "54612757-8689-41f4-88d1-45623c83acef"
      },
      "execution_count": 83,
      "outputs": [
        {
          "output_type": "execute_result",
          "data": {
            "text/plain": [
              "0.23286187621389964"
            ]
          },
          "metadata": {},
          "execution_count": 83
        }
      ]
    },
    {
      "cell_type": "code",
      "source": [
        "Z_score_1101 = 1.2*A_1101 + 1.4*B_1101 + 3.3*C_1101 + 0.6*D_1101 +1.0*E_1101\n"
      ],
      "metadata": {
        "id": "PoSi3uzf2IMf"
      },
      "execution_count": 86,
      "outputs": []
    },
    {
      "cell_type": "code",
      "source": [
        "Z_score_1101\n"
      ],
      "metadata": {
        "colab": {
          "base_uri": "https://localhost:8080/"
        },
        "id": "YRb7Xcj52W-A",
        "outputId": "f920d72a-e288-4ab1-c09e-ee50f0e323d4"
      },
      "execution_count": 87,
      "outputs": [
        {
          "output_type": "execute_result",
          "data": {
            "text/plain": [
              "1.0995461708189342"
            ]
          },
          "metadata": {},
          "execution_count": 87
        }
      ]
    },
    {
      "cell_type": "code",
      "source": [
        "\n",
        "X1 ='Total current assets'\n",
        "X2 ='Total current liabilities'\n",
        "X3 ='Total assets'\n",
        "X4 ='Total retained earnings'\n",
        "X5 ='Earnings before interest and tax'\n",
        "X6 ='Total equity'\n",
        "X7 ='Total operating revenue'\n",
        "TCC ='1101 TCC'\n",
        "ACC ='1102 ACC'"
      ],
      "metadata": {
        "id": "G9AxvMK32gZR"
      },
      "execution_count": 89,
      "outputs": []
    },
    {
      "cell_type": "code",
      "source": [
        "df1.loc[TCC,X3]\n"
      ],
      "metadata": {
        "colab": {
          "base_uri": "https://localhost:8080/"
        },
        "id": "CMvhY8BO2_3U",
        "outputId": "6bcaf9eb-a109-42ac-9f07-4af08f249446"
      },
      "execution_count": 90,
      "outputs": [
        {
          "output_type": "execute_result",
          "data": {
            "text/plain": [
              "469438522.0"
            ]
          },
          "metadata": {},
          "execution_count": 90
        }
      ]
    },
    {
      "cell_type": "code",
      "source": [
        "A_TCC = (df1.loc[TCC,X1] - df1.loc[TCC,X2])/df1.loc[TCC, X3]\n"
      ],
      "metadata": {
        "id": "W8RNGrL93GxG"
      },
      "execution_count": 91,
      "outputs": []
    },
    {
      "cell_type": "code",
      "source": [
        "A_TCC"
      ],
      "metadata": {
        "colab": {
          "base_uri": "https://localhost:8080/"
        },
        "id": "VndpA9-i3RJd",
        "outputId": "4a5c60d4-b53d-42b1-86d4-ac182c0130cf"
      },
      "execution_count": 92,
      "outputs": [
        {
          "output_type": "execute_result",
          "data": {
            "text/plain": [
              "0.17154975620002486"
            ]
          },
          "metadata": {},
          "execution_count": 92
        }
      ]
    },
    {
      "cell_type": "code",
      "source": [
        "B_TCC = df1.loc[TSMC,X4] /df1.loc[TSMC, X3]"
      ],
      "metadata": {
        "id": "-BTxY7AA3eRB"
      },
      "execution_count": 97,
      "outputs": []
    },
    {
      "cell_type": "code",
      "source": [
        "B_TCC"
      ],
      "metadata": {
        "colab": {
          "base_uri": "https://localhost:8080/"
        },
        "id": "phivktYc3m2C",
        "outputId": "9424de49-f05e-48b7-bb62-7f56f61f0edc"
      },
      "execution_count": 98,
      "outputs": [
        {
          "output_type": "execute_result",
          "data": {
            "text/plain": [
              "0.15034296865820485"
            ]
          },
          "metadata": {},
          "execution_count": 98
        }
      ]
    },
    {
      "cell_type": "code",
      "source": [
        "C_TCC = df2.loc[TCC,X5] /df1.loc[TCC, X3]\n"
      ],
      "metadata": {
        "id": "d0FzlpsD3thO"
      },
      "execution_count": 96,
      "outputs": []
    },
    {
      "cell_type": "code",
      "source": [
        "C_TCC"
      ],
      "metadata": {
        "colab": {
          "base_uri": "https://localhost:8080/"
        },
        "id": "NUmbXaO33zcH",
        "outputId": "fc6aec3a-09e0-4c21-ea7b-4cecce4f8d6d"
      },
      "execution_count": 99,
      "outputs": [
        {
          "output_type": "execute_result",
          "data": {
            "text/plain": [
              "0.03812962541663762"
            ]
          },
          "metadata": {},
          "execution_count": 99
        }
      ]
    },
    {
      "cell_type": "code",
      "source": [
        "D_TCC = df1.loc[TCC,X6] /df1.loc[TCC, X3]\n"
      ],
      "metadata": {
        "id": "d2KZvdr437pw"
      },
      "execution_count": 100,
      "outputs": []
    },
    {
      "cell_type": "code",
      "source": [
        "D_TCC"
      ],
      "metadata": {
        "colab": {
          "base_uri": "https://localhost:8080/"
        },
        "id": "dG6dhCUy3_hm",
        "outputId": "0f3917d8-2bc9-4c0e-b825-0d2e96e7132e"
      },
      "execution_count": 101,
      "outputs": [
        {
          "output_type": "execute_result",
          "data": {
            "text/plain": [
              "0.5408611119476897"
            ]
          },
          "metadata": {},
          "execution_count": 101
        }
      ]
    },
    {
      "cell_type": "code",
      "source": [
        "E_TCC = df2.loc[TCC,X7] /df1.loc[TCC, X3]\n"
      ],
      "metadata": {
        "id": "xRRB-wKm4Djw"
      },
      "execution_count": 103,
      "outputs": []
    },
    {
      "cell_type": "code",
      "source": [
        "E_TCC"
      ],
      "metadata": {
        "colab": {
          "base_uri": "https://localhost:8080/"
        },
        "id": "-MA8S3Gu4IDM",
        "outputId": "3a4f0a04-0410-4f43-e05b-17d10a51f3f8"
      },
      "execution_count": 104,
      "outputs": [
        {
          "output_type": "execute_result",
          "data": {
            "text/plain": [
              "0.23286187621389964"
            ]
          },
          "metadata": {},
          "execution_count": 104
        }
      ]
    },
    {
      "cell_type": "code",
      "source": [
        "Z_score_TCC = 1.2*A_TCC + 1.4*B_TCC + 3.3*C_TCC + 0.6*D_TCC +1.0*E_TCC\n"
      ],
      "metadata": {
        "id": "kVzlav724LWN"
      },
      "execution_count": 105,
      "outputs": []
    },
    {
      "cell_type": "code",
      "source": [
        "Z_score_TCC"
      ],
      "metadata": {
        "colab": {
          "base_uri": "https://localhost:8080/"
        },
        "id": "ktxzBVZL4Sx1",
        "outputId": "88b7cf84-88b0-4ae1-ccda-d0cb5d54377b"
      },
      "execution_count": 106,
      "outputs": [
        {
          "output_type": "execute_result",
          "data": {
            "text/plain": [
              "1.0995461708189342"
            ]
          },
          "metadata": {},
          "execution_count": 106
        }
      ]
    }
  ]
}